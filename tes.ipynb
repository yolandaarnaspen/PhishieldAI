{
 "cells": [
  {
   "cell_type": "code",
   "execution_count": 33,
   "metadata": {},
   "outputs": [],
   "source": [
    "import pandas as pd"
   ]
  },
  {
   "cell_type": "code",
   "execution_count": 34,
   "metadata": {},
   "outputs": [
    {
     "data": {
      "text/html": [
       "<div>\n",
       "<style scoped>\n",
       "    .dataframe tbody tr th:only-of-type {\n",
       "        vertical-align: middle;\n",
       "    }\n",
       "\n",
       "    .dataframe tbody tr th {\n",
       "        vertical-align: top;\n",
       "    }\n",
       "\n",
       "    .dataframe thead th {\n",
       "        text-align: right;\n",
       "    }\n",
       "</style>\n",
       "<table border=\"1\" class=\"dataframe\">\n",
       "  <thead>\n",
       "    <tr style=\"text-align: right;\">\n",
       "      <th></th>\n",
       "      <th>Member_number</th>\n",
       "      <th>Date</th>\n",
       "      <th>itemDescription</th>\n",
       "    </tr>\n",
       "  </thead>\n",
       "  <tbody>\n",
       "    <tr>\n",
       "      <th>0</th>\n",
       "      <td>1808</td>\n",
       "      <td>21-07-2015</td>\n",
       "      <td>tropical fruit</td>\n",
       "    </tr>\n",
       "    <tr>\n",
       "      <th>1</th>\n",
       "      <td>2552</td>\n",
       "      <td>05-01-2015</td>\n",
       "      <td>whole milk</td>\n",
       "    </tr>\n",
       "    <tr>\n",
       "      <th>2</th>\n",
       "      <td>2300</td>\n",
       "      <td>19-09-2015</td>\n",
       "      <td>pip fruit</td>\n",
       "    </tr>\n",
       "    <tr>\n",
       "      <th>3</th>\n",
       "      <td>1187</td>\n",
       "      <td>12-12-2015</td>\n",
       "      <td>other vegetables</td>\n",
       "    </tr>\n",
       "    <tr>\n",
       "      <th>4</th>\n",
       "      <td>3037</td>\n",
       "      <td>01-02-2015</td>\n",
       "      <td>whole milk</td>\n",
       "    </tr>\n",
       "    <tr>\n",
       "      <th>...</th>\n",
       "      <td>...</td>\n",
       "      <td>...</td>\n",
       "      <td>...</td>\n",
       "    </tr>\n",
       "    <tr>\n",
       "      <th>38760</th>\n",
       "      <td>4471</td>\n",
       "      <td>08-10-2014</td>\n",
       "      <td>sliced cheese</td>\n",
       "    </tr>\n",
       "    <tr>\n",
       "      <th>38761</th>\n",
       "      <td>2022</td>\n",
       "      <td>23-02-2014</td>\n",
       "      <td>candy</td>\n",
       "    </tr>\n",
       "    <tr>\n",
       "      <th>38762</th>\n",
       "      <td>1097</td>\n",
       "      <td>16-04-2014</td>\n",
       "      <td>cake bar</td>\n",
       "    </tr>\n",
       "    <tr>\n",
       "      <th>38763</th>\n",
       "      <td>1510</td>\n",
       "      <td>03-12-2014</td>\n",
       "      <td>fruit/vegetable juice</td>\n",
       "    </tr>\n",
       "    <tr>\n",
       "      <th>38764</th>\n",
       "      <td>1521</td>\n",
       "      <td>26-12-2014</td>\n",
       "      <td>cat food</td>\n",
       "    </tr>\n",
       "  </tbody>\n",
       "</table>\n",
       "<p>38765 rows × 3 columns</p>\n",
       "</div>"
      ],
      "text/plain": [
       "       Member_number        Date        itemDescription\n",
       "0               1808  21-07-2015         tropical fruit\n",
       "1               2552  05-01-2015             whole milk\n",
       "2               2300  19-09-2015              pip fruit\n",
       "3               1187  12-12-2015       other vegetables\n",
       "4               3037  01-02-2015             whole milk\n",
       "...              ...         ...                    ...\n",
       "38760           4471  08-10-2014          sliced cheese\n",
       "38761           2022  23-02-2014                  candy\n",
       "38762           1097  16-04-2014               cake bar\n",
       "38763           1510  03-12-2014  fruit/vegetable juice\n",
       "38764           1521  26-12-2014               cat food\n",
       "\n",
       "[38765 rows x 3 columns]"
      ]
     },
     "execution_count": 34,
     "metadata": {},
     "output_type": "execute_result"
    }
   ],
   "source": [
    "# 1. Load dataset\n",
    "data = pd.read_csv(\"Groceries_dataset.csv\")\n",
    "data"
   ]
  },
  {
   "cell_type": "code",
   "execution_count": 35,
   "metadata": {},
   "outputs": [
    {
     "name": "stdout",
     "output_type": "stream",
     "text": [
      "Data after removing duplicates: 38006 rows\n"
     ]
    }
   ],
   "source": [
    "# 2. Data cleaning\n",
    "# Menghilangkan Duplikasi, menghapus baris yang memiliki duplikasi dalam semua kolom\n",
    "data_cleaned = data.drop_duplicates()\n",
    "# Tampilkan informasi setelah menghapus duplikasi\n",
    "print(f\"Data after removing duplicates: {data_cleaned.shape[0]} rows\")\n",
    "\n",
    "data['itemDescription'] = data['itemDescription'].str.lower().str.strip()\n",
    "data['Date'] = pd.to_datetime(data['Date'], dayfirst=True)"
   ]
  },
  {
   "cell_type": "code",
   "execution_count": 36,
   "metadata": {},
   "outputs": [
    {
     "name": "stdout",
     "output_type": "stream",
     "text": [
      "Member_number      0\n",
      "Date               0\n",
      "itemDescription    0\n",
      "dtype: int64\n"
     ]
    }
   ],
   "source": [
    "# 3. Cek missing value \n",
    "print(data.isnull().sum())"
   ]
  },
  {
   "cell_type": "code",
   "execution_count": 37,
   "metadata": {},
   "outputs": [],
   "source": [
    "# 4. Bentuk data transaksi: satu transaksi = satu kombinasi Member_number + Date\n",
    "transactions = data.groupby(['Member_number', 'Date'])['itemDescription'].apply(list).reset_index(name='Transactions')"
   ]
  },
  {
   "cell_type": "code",
   "execution_count": 38,
   "metadata": {},
   "outputs": [
    {
     "name": "stdout",
     "output_type": "stream",
     "text": [
      "   Member_number       Date                                       Transactions\n",
      "0           1000 2014-06-24                  [whole milk, pastry, salty snack]\n",
      "1           1000 2015-03-15  [sausage, whole milk, semi-finished bread, yog...\n",
      "2           1000 2015-05-27                         [soda, pickled vegetables]\n",
      "3           1000 2015-07-24                     [canned beer, misc. beverages]\n",
      "4           1000 2015-11-25                        [sausage, hygiene articles]\n"
     ]
    }
   ],
   "source": [
    "# Merubah data mentah menjadi data transaksi (transactions), Pastikan item sudah dalam lowercase dan bersih\n",
    "data['itemDescription'] = data['itemDescription'].str.lower().str.strip()\n",
    "# Ubah kolom Date ke datetime (opsional, lebih rapi)\n",
    "data['Date'] = pd.to_datetime(data['Date'], dayfirst=True)\n",
    "# GROUP BY\n",
    "transactions = data.groupby(['Member_number', 'Date'])['itemDescription'].apply(list).reset_index(name='Transactions')\n",
    "\n",
    "# Lihat hasil\n",
    "print(transactions.head())"
   ]
  },
  {
   "cell_type": "code",
   "execution_count": 39,
   "metadata": {},
   "outputs": [
    {
     "name": "stdout",
     "output_type": "stream",
     "text": [
      "Jumlah transaksi train: 11970\n",
      "Jumlah transaksi test: 2993\n"
     ]
    }
   ],
   "source": [
    "# 5. Split data transaksi menjadi train/test (misal, 80% train, 20% test)\n",
    "from sklearn.model_selection import train_test_split\n",
    "train, test = train_test_split(transactions, test_size=0.2, random_state=42)\n",
    "\n",
    "print(f\"Jumlah transaksi train: {len(train)}\")\n",
    "print(f\"Jumlah transaksi test: {len(test)}\")"
   ]
  },
  {
   "cell_type": "code",
   "execution_count": 40,
   "metadata": {},
   "outputs": [],
   "source": [
    "# Penerapan Algoritma Apriori\n",
    "from mlxtend.preprocessing import TransactionEncoder\n",
    "from mlxtend.frequent_patterns import apriori, association_rules"
   ]
  },
  {
   "cell_type": "code",
   "execution_count": 42,
   "metadata": {},
   "outputs": [],
   "source": [
    "# 1. Ambil list transaksi saja (list of list)\n",
    "trans_list = transactions['Transactions'].tolist()"
   ]
  },
  {
   "cell_type": "code",
   "execution_count": 43,
   "metadata": {},
   "outputs": [],
   "source": [
    "# 2. Ubah ke format one-hot encoding\n",
    "te = TransactionEncoder()\n",
    "te_ary = te.fit(trans_list).transform(trans_list)\n",
    "df_apriori = pd.DataFrame(te_ary, columns=te.columns_)"
   ]
  },
  {
   "cell_type": "code",
   "execution_count": 48,
   "metadata": {},
   "outputs": [
    {
     "name": "stdout",
     "output_type": "stream",
     "text": [
      "Frequent Itemset (min_support=0.5%):\n",
      "     support            itemsets\n",
      "87  0.157923        (whole milk)\n",
      "52  0.122101  (other vegetables)\n",
      "65  0.110005        (rolls/buns)\n",
      "74  0.097106              (soda)\n",
      "88  0.085879            (yogurt)\n",
      "66  0.069572   (root vegetables)\n",
      "80  0.067767    (tropical fruit)\n",
      "5   0.060683     (bottled water)\n",
      "69  0.060349           (sausage)\n",
      "18  0.053131      (citrus fruit)\n"
     ]
    }
   ],
   "source": [
    "# 3. Hitung frequent itemset\n",
    "frequent_itemsets = apriori(df_apriori, min_support=0.005, use_colnames=True)\n",
    "print(\"Frequent Itemset (min_support=0.5%):\")\n",
    "print(frequent_itemsets.sort_values(\"support\", ascending=False).head(10))"
   ]
  },
  {
   "cell_type": "code",
   "execution_count": 49,
   "metadata": {},
   "outputs": [
    {
     "name": "stdout",
     "output_type": "stream",
     "text": [
      "\n",
      "Association Rules (confidence > 0.1):\n",
      "          antecedents         consequents   support  confidence      lift\n",
      "0      (bottled beer)        (whole milk)  0.007151    0.157817  0.999330\n",
      "1     (bottled water)        (whole milk)  0.007151    0.117841  0.746196\n",
      "2       (canned beer)        (whole milk)  0.006015    0.128205  0.811821\n",
      "3      (citrus fruit)        (whole milk)  0.007151    0.134591  0.852259\n",
      "4     (domestic eggs)        (whole milk)  0.005280    0.142342  0.901341\n",
      "5       (frankfurter)  (other vegetables)  0.005146    0.136283  1.116150\n",
      "6       (frankfurter)        (whole milk)  0.005280    0.139823  0.885388\n",
      "7        (newspapers)        (whole milk)  0.005614    0.144330  0.913926\n",
      "8  (other vegetables)        (whole milk)  0.014837    0.121511  0.769430\n",
      "9            (pastry)        (whole milk)  0.006483    0.125323  0.793571\n"
     ]
    }
   ],
   "source": [
    "# 4. Generate association rules\n",
    "rules = association_rules(frequent_itemsets, metric=\"confidence\", min_threshold=0.1)\n",
    "print(\"\\nAssociation Rules (confidence > 0.1):\")\n",
    "print(rules[['antecedents', 'consequents', 'support', 'confidence', 'lift']].head(10))"
   ]
  },
  {
   "cell_type": "code",
   "execution_count": 50,
   "metadata": {},
   "outputs": [
    {
     "name": "stdout",
     "output_type": "stream",
     "text": [
      "Jumlah aturan ditemukan: 19\n"
     ]
    }
   ],
   "source": [
    "print(f\"Jumlah aturan ditemukan: {len(rules)}\")"
   ]
  },
  {
   "cell_type": "code",
   "execution_count": null,
   "metadata": {},
   "outputs": [],
   "source": []
  },
  {
   "cell_type": "code",
   "execution_count": null,
   "metadata": {},
   "outputs": [],
   "source": []
  },
  {
   "cell_type": "code",
   "execution_count": null,
   "metadata": {},
   "outputs": [],
   "source": []
  },
  {
   "cell_type": "code",
   "execution_count": null,
   "metadata": {},
   "outputs": [],
   "source": []
  },
  {
   "cell_type": "code",
   "execution_count": null,
   "metadata": {},
   "outputs": [],
   "source": []
  },
  {
   "cell_type": "code",
   "execution_count": null,
   "metadata": {},
   "outputs": [],
   "source": []
  },
  {
   "cell_type": "code",
   "execution_count": null,
   "metadata": {},
   "outputs": [],
   "source": []
  },
  {
   "cell_type": "code",
   "execution_count": null,
   "metadata": {},
   "outputs": [],
   "source": []
  },
  {
   "cell_type": "code",
   "execution_count": null,
   "metadata": {},
   "outputs": [],
   "source": []
  },
  {
   "cell_type": "code",
   "execution_count": null,
   "metadata": {},
   "outputs": [],
   "source": []
  },
  {
   "cell_type": "code",
   "execution_count": null,
   "metadata": {},
   "outputs": [],
   "source": []
  },
  {
   "cell_type": "code",
   "execution_count": null,
   "metadata": {},
   "outputs": [],
   "source": []
  },
  {
   "cell_type": "code",
   "execution_count": null,
   "metadata": {},
   "outputs": [],
   "source": []
  },
  {
   "cell_type": "code",
   "execution_count": null,
   "metadata": {},
   "outputs": [],
   "source": []
  },
  {
   "cell_type": "code",
   "execution_count": null,
   "metadata": {},
   "outputs": [],
   "source": []
  },
  {
   "cell_type": "code",
   "execution_count": null,
   "metadata": {},
   "outputs": [],
   "source": []
  },
  {
   "cell_type": "code",
   "execution_count": null,
   "metadata": {},
   "outputs": [],
   "source": []
  },
  {
   "cell_type": "code",
   "execution_count": null,
   "metadata": {},
   "outputs": [],
   "source": []
  },
  {
   "cell_type": "code",
   "execution_count": null,
   "metadata": {},
   "outputs": [],
   "source": []
  }
 ],
 "metadata": {
  "kernelspec": {
   "display_name": "pandas_kernel",
   "language": "python",
   "name": "pandas_kernel"
  },
  "language_info": {
   "codemirror_mode": {
    "name": "ipython",
    "version": 3
   },
   "file_extension": ".py",
   "mimetype": "text/x-python",
   "name": "python",
   "nbconvert_exporter": "python",
   "pygments_lexer": "ipython3",
   "version": "3.12.3"
  }
 },
 "nbformat": 4,
 "nbformat_minor": 2
}
